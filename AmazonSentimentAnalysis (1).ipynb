{
  "cells": [
    {
      "cell_type": "markdown",
      "id": "9259ee3b",
      "metadata": {
        "papermill": {
          "duration": 0.006068,
          "end_time": "2023-10-17T16:56:08.150063",
          "exception": false,
          "start_time": "2023-10-17T16:56:08.143995",
          "status": "completed"
        },
        "tags": [],
        "id": "9259ee3b"
      },
      "source": [
        "<center>\n",
        "  <h1 style=\"background-color:red; color:white; font-size:40px; font-weight:bold; font-family:Times New Roman; border:3px solid black;\">Amazon Reviews For Sentiment Analysis</h1>\n",
        "</center>"
      ]
    },
    {
      "cell_type": "markdown",
      "id": "4937e7ea",
      "metadata": {
        "papermill": {
          "duration": 0.005015,
          "end_time": "2023-10-17T16:56:08.160269",
          "exception": false,
          "start_time": "2023-10-17T16:56:08.155254",
          "status": "completed"
        },
        "tags": [],
        "id": "4937e7ea"
      },
      "source": [
        "# <div style= \"font-family: Cambria; font-weight:bold; letter-spacing: 0px; color:#ffffff; font-size:120%; text-align:left;padding:3.0px; background: #003380; border: 10px solid #80ffff\"> TABLE OF CONTENTS<br><div>  \n",
        "\n",
        "* [Import Libraries](#0)\n",
        "* [Read Data](#1)\n",
        "* [Text Cleaning](#2)\n",
        "* [Word Cloud](#3)\n",
        "* [Tokeniztion & pad_sequences](#4)\n",
        "* [Model](#5)\n",
        "* [Model Check](#6)\n",
        "* [Model Check Using User Input](#7)"
      ]
    },
    {
      "cell_type": "markdown",
      "source": [
        "# About Project:"
      ],
      "metadata": {
        "id": "nGqVES97KR4b"
      },
      "id": "nGqVES97KR4b"
    },
    {
      "cell_type": "markdown",
      "source": [
        "This is a Sentiment Analysis Project in which I have used a Amazon customer review dataset from Kaggle. Link: https://www.kaggle.com/datasets/bittlingmayer/amazonreviews . I have Used TensorFlow's LSTM and run my model using 2 epoches."
      ],
      "metadata": {
        "id": "_J0R65SNKWzI"
      },
      "id": "_J0R65SNKWzI"
    },
    {
      "cell_type": "markdown",
      "id": "f843d33a",
      "metadata": {
        "papermill": {
          "duration": 0.005122,
          "end_time": "2023-10-17T16:56:08.170542",
          "exception": false,
          "start_time": "2023-10-17T16:56:08.165420",
          "status": "completed"
        },
        "tags": [],
        "id": "f843d33a"
      },
      "source": [
        "<a id=\"0.1\"></a>\n",
        "## <div style= \"font-family: Cambria; font-weight:bold; letter-spacing: 0px; color:#ffffff; font-size:120%; text-align:left;padding:3.0px; background: #0059b3; border-bottom: 8px solid #e6e6e6\" >Import Libraries<br><div>\n"
      ]
    },
    {
      "cell_type": "markdown",
      "source": [
        "These are the following libraries this I'll be using for this project."
      ],
      "metadata": {
        "id": "4E19tfktKJWI"
      },
      "id": "4E19tfktKJWI"
    },
    {
      "cell_type": "code",
      "execution_count": 1,
      "id": "252c2e05",
      "metadata": {
        "execution": {
          "iopub.execute_input": "2023-10-17T16:56:08.182980Z",
          "iopub.status.busy": "2023-10-17T16:56:08.182255Z",
          "iopub.status.idle": "2023-10-17T16:56:26.534297Z",
          "shell.execute_reply": "2023-10-17T16:56:26.533288Z"
        },
        "papermill": {
          "duration": 18.360823,
          "end_time": "2023-10-17T16:56:26.536423",
          "exception": false,
          "start_time": "2023-10-17T16:56:08.175600",
          "status": "completed"
        },
        "tags": [],
        "id": "252c2e05"
      },
      "outputs": [],
      "source": [
        "import bz2\n",
        "from tqdm import tqdm\n",
        "import re\n",
        "import pandas as pd\n",
        "import numpy as np\n",
        "import matplotlib.pyplot as plt\n",
        "import seaborn as sns\n",
        "from sklearn.metrics import confusion_matrix\n",
        "from sklearn.metrics import classification_report\n",
        "from wordcloud import WordCloud\n",
        "from sklearn.metrics import confusion_matrix,classification_report\n",
        "from nltk.sentiment.vader import SentimentIntensityAnalyzer\n",
        "from tensorflow.keras.preprocessing.text import Tokenizer\n",
        "from tensorflow.keras.preprocessing.sequence import pad_sequences\n",
        "from tensorflow.keras.models import Sequential\n",
        "from tensorflow.keras.layers import Dense,LSTM,SpatialDropout1D,Embedding\n",
        "from keras.callbacks import ModelCheckpoint\n",
        "import pickle"
      ]
    },
    {
      "cell_type": "markdown",
      "id": "a6c44296",
      "metadata": {
        "papermill": {
          "duration": 0.005397,
          "end_time": "2023-10-17T16:56:26.547927",
          "exception": false,
          "start_time": "2023-10-17T16:56:26.542530",
          "status": "completed"
        },
        "tags": [],
        "id": "a6c44296"
      },
      "source": [
        "<a id=\"0.1\"></a>\n",
        "## <div style= \"font-family: Cambria; font-weight:bold; letter-spacing: 0px; color:#ffffff; font-size:120%; text-align:left;padding:3.0px; background: #0059b3; border-bottom: 8px solid #e6e6e6\" > Read Data<br><div>\n"
      ]
    },
    {
      "cell_type": "code",
      "source": [
        "from google.colab import drive\n",
        "drive.mount('/content/drive')"
      ],
      "metadata": {
        "colab": {
          "base_uri": "https://localhost:8080/",
          "height": 0
        },
        "id": "DLecxblsdWEA",
        "outputId": "265122eb-bea1-4b33-b574-3be32b726ed7"
      },
      "id": "DLecxblsdWEA",
      "execution_count": 2,
      "outputs": [
        {
          "output_type": "stream",
          "name": "stdout",
          "text": [
            "Mounted at /content/drive\n"
          ]
        }
      ]
    },
    {
      "cell_type": "code",
      "source": [],
      "metadata": {
        "id": "0WVn8SJjdat7"
      },
      "id": "0WVn8SJjdat7",
      "execution_count": 2,
      "outputs": []
    },
    {
      "cell_type": "code",
      "execution_count": 4,
      "id": "db4c0979",
      "metadata": {
        "execution": {
          "iopub.execute_input": "2023-10-17T16:58:15.877533Z",
          "iopub.status.busy": "2023-10-17T16:58:15.877255Z",
          "iopub.status.idle": "2023-10-17T16:58:25.802073Z",
          "shell.execute_reply": "2023-10-17T16:58:25.800995Z"
        },
        "id": "db4c0979",
        "outputId": "d74dbad2-073a-4522-badc-de28a925f179",
        "papermill": {
          "duration": 9.932863,
          "end_time": "2023-10-17T16:58:25.803890",
          "exception": false,
          "start_time": "2023-10-17T16:58:15.871027",
          "status": "completed"
        },
        "tags": [],
        "colab": {
          "base_uri": "https://localhost:8080/",
          "height": 0
        }
      },
      "outputs": [
        {
          "output_type": "stream",
          "name": "stderr",
          "text": [
            "100%|██████████| 3600000/3600000 [00:07<00:00, 481035.09it/s]\n",
            "100%|██████████| 400000/400000 [00:00<00:00, 414370.01it/s]\n"
          ]
        }
      ],
      "source": [
        "train,test,train_label,test_label=[],[],[],[]\n",
        "with open('/content/drive/MyDrive/sentiment/train.ft.txt', 'r', encoding='utf-8') as file:\n",
        "    lines = file.readlines()\n",
        "for line in tqdm(lines):\n",
        "    train.append(line.split('__label__')[1][1:])\n",
        "    train_label.append(line.split('__label__')[1][0])\n",
        "with open('/content/drive/MyDrive/sentiment/test.ft.txt', 'r', encoding='utf-8') as file:\n",
        "    lines = file.readlines()\n",
        "for line in tqdm(lines):\n",
        "    test.append(line.split('__label__')[1][1:])\n",
        "    test_label.append(line.split('__label__')[1][0])"
      ]
    },
    {
      "cell_type": "markdown",
      "id": "93c24e41",
      "metadata": {
        "papermill": {
          "duration": 0.008023,
          "end_time": "2023-10-17T16:58:25.821175",
          "exception": false,
          "start_time": "2023-10-17T16:58:25.813152",
          "status": "completed"
        },
        "tags": [],
        "id": "93c24e41"
      },
      "source": [
        "<a id=\"0.1\"></a>\n",
        "## <div style= \"font-family: Cambria; font-weight:bold; letter-spacing: 0px; color:#ffffff; font-size:120%; text-align:left;padding:3.0px; background: #0059b3; border-bottom: 8px solid #e6e6e6\" >Text Cleaning<br><div>\n"
      ]
    },
    {
      "cell_type": "code",
      "execution_count": 5,
      "id": "d17bcbaa",
      "metadata": {
        "execution": {
          "iopub.execute_input": "2023-10-17T16:58:25.840880Z",
          "iopub.status.busy": "2023-10-17T16:58:25.839981Z",
          "iopub.status.idle": "2023-10-17T16:58:25.845134Z",
          "shell.execute_reply": "2023-10-17T16:58:25.844329Z"
        },
        "id": "d17bcbaa",
        "papermill": {
          "duration": 0.016793,
          "end_time": "2023-10-17T16:58:25.846929",
          "exception": false,
          "start_time": "2023-10-17T16:58:25.830136",
          "status": "completed"
        },
        "tags": []
      },
      "outputs": [],
      "source": [
        "def clean_text(text):\n",
        "    # Remove non-alphanumeric characters and extra whitespace\n",
        "    text = re.sub(r'[^a-zA-Z\\s]', '', text)\n",
        "    # Convert multiple whitespace characters to a single space\n",
        "    text = re.sub(r'\\s+', ' ', text)\n",
        "    # Convert the text to lowercase\n",
        "    text = text.lower()\n",
        "    return text"
      ]
    },
    {
      "cell_type": "code",
      "execution_count": 6,
      "id": "4bb22ce4",
      "metadata": {
        "execution": {
          "iopub.execute_input": "2023-10-17T16:58:25.864975Z",
          "iopub.status.busy": "2023-10-17T16:58:25.864202Z",
          "iopub.status.idle": "2023-10-17T16:58:25.869609Z",
          "shell.execute_reply": "2023-10-17T16:58:25.868800Z"
        },
        "id": "4bb22ce4",
        "outputId": "93c7eda2-6e3a-42b3-9fbd-3e668a6f0cd6",
        "papermill": {
          "duration": 0.016053,
          "end_time": "2023-10-17T16:58:25.871313",
          "exception": false,
          "start_time": "2023-10-17T16:58:25.855260",
          "status": "completed"
        },
        "tags": [],
        "colab": {
          "base_uri": "https://localhost:8080/",
          "height": 0
        }
      },
      "outputs": [
        {
          "output_type": "stream",
          "name": "stdout",
          "text": [
            "Train Length 3600000\n",
            "Train Label Length 3600000\n",
            "Test Length 400000\n",
            "Test Label Length 400000\n"
          ]
        }
      ],
      "source": [
        "print('Train Length',len(train))\n",
        "print('Train Label Length',len(train_label))\n",
        "print('Test Length',len(test))\n",
        "print('Test Label Length',len(test_label))"
      ]
    },
    {
      "cell_type": "code",
      "execution_count": 7,
      "id": "8927f9ad",
      "metadata": {
        "execution": {
          "iopub.execute_input": "2023-10-17T16:58:25.889444Z",
          "iopub.status.busy": "2023-10-17T16:58:25.888704Z",
          "iopub.status.idle": "2023-10-17T16:58:25.895992Z",
          "shell.execute_reply": "2023-10-17T16:58:25.894855Z"
        },
        "id": "8927f9ad",
        "outputId": "1439d504-28d3-4522-b7ae-af4ac88f7e55",
        "papermill": {
          "duration": 0.01832,
          "end_time": "2023-10-17T16:58:25.897815",
          "exception": false,
          "start_time": "2023-10-17T16:58:25.879495",
          "status": "completed"
        },
        "tags": [],
        "colab": {
          "base_uri": "https://localhost:8080/",
          "height": 0
        }
      },
      "outputs": [
        {
          "output_type": "execute_result",
          "data": {
            "text/plain": [
              "('2',\n",
              " ' Stuning even for the non-gamer: This sound track was beautiful! It paints the senery in your mind so well I would recomend it even to people who hate vid. game music! I have played the game Chrono Cross but out of all of the games I have ever played it has the best music! It backs away from crude keyboarding and takes a fresher step with grate guitars and soulful orchestras. It would impress anyone who cares to listen! ^_^\\n')"
            ]
          },
          "metadata": {},
          "execution_count": 7
        }
      ],
      "source": [
        "train_label[0],train[0]"
      ]
    },
    {
      "cell_type": "code",
      "execution_count": 8,
      "id": "f8cc6f75",
      "metadata": {
        "execution": {
          "iopub.execute_input": "2023-10-17T16:58:25.918797Z",
          "iopub.status.busy": "2023-10-17T16:58:25.917822Z",
          "iopub.status.idle": "2023-10-17T16:58:25.925142Z",
          "shell.execute_reply": "2023-10-17T16:58:25.924139Z"
        },
        "id": "f8cc6f75",
        "outputId": "ca9bea45-d9a7-492a-fea9-46f215db929c",
        "papermill": {
          "duration": 0.019998,
          "end_time": "2023-10-17T16:58:25.927112",
          "exception": false,
          "start_time": "2023-10-17T16:58:25.907114",
          "status": "completed"
        },
        "tags": [],
        "colab": {
          "base_uri": "https://localhost:8080/",
          "height": 0
        }
      },
      "outputs": [
        {
          "output_type": "execute_result",
          "data": {
            "text/plain": [
              "('2',\n",
              " ' stuning even for the nongamer this sound track was beautiful it paints the senery in your mind so well i would recomend it even to people who hate vid game music i have played the game chrono cross but out of all of the games i have ever played it has the best music it backs away from crude keyboarding and takes a fresher step with grate guitars and soulful orchestras it would impress anyone who cares to listen ')"
            ]
          },
          "metadata": {},
          "execution_count": 8
        }
      ],
      "source": [
        "train_label[0],clean_text(train[0])"
      ]
    },
    {
      "cell_type": "code",
      "execution_count": 9,
      "id": "9e331a5b",
      "metadata": {
        "execution": {
          "iopub.execute_input": "2023-10-17T16:58:25.948499Z",
          "iopub.status.busy": "2023-10-17T16:58:25.947464Z",
          "iopub.status.idle": "2023-10-17T16:58:25.954579Z",
          "shell.execute_reply": "2023-10-17T16:58:25.953453Z"
        },
        "id": "9e331a5b",
        "outputId": "2e3890d1-02fa-4a9f-bfd8-beb4c9eb8d9b",
        "papermill": {
          "duration": 0.02004,
          "end_time": "2023-10-17T16:58:25.956491",
          "exception": false,
          "start_time": "2023-10-17T16:58:25.936451",
          "status": "completed"
        },
        "tags": [],
        "colab": {
          "base_uri": "https://localhost:8080/",
          "height": 0
        }
      },
      "outputs": [
        {
          "output_type": "execute_result",
          "data": {
            "text/plain": [
              "('2',\n",
              " ' Great CD: My lovely Pat has one of the GREAT voices of her generation. I have listened to this CD for YEARS and I still LOVE IT. When I\\'m in a good mood it makes me feel better. A bad mood just evaporates like sugar in the rain. This CD just oozes LIFE. Vocals are jusat STUUNNING and lyrics just kill. One of life\\'s hidden gems. This is a desert isle CD in my book. Why she never made it big is just beyond me. Everytime I play this, no matter black, white, young, old, male, female EVERYBODY says one thing \"Who was that singing ?\"\\n')"
            ]
          },
          "metadata": {},
          "execution_count": 9
        }
      ],
      "source": [
        "test_label[0],test[0]"
      ]
    },
    {
      "cell_type": "code",
      "execution_count": 10,
      "id": "37000285",
      "metadata": {
        "execution": {
          "iopub.execute_input": "2023-10-17T16:58:25.977960Z",
          "iopub.status.busy": "2023-10-17T16:58:25.976847Z",
          "iopub.status.idle": "2023-10-17T16:58:25.984870Z",
          "shell.execute_reply": "2023-10-17T16:58:25.983803Z"
        },
        "id": "37000285",
        "outputId": "eff7f557-62ef-46b7-8f3a-766fd5409f5e",
        "papermill": {
          "duration": 0.021517,
          "end_time": "2023-10-17T16:58:25.987625",
          "exception": false,
          "start_time": "2023-10-17T16:58:25.966108",
          "status": "completed"
        },
        "tags": [],
        "colab": {
          "base_uri": "https://localhost:8080/",
          "height": 0
        }
      },
      "outputs": [
        {
          "output_type": "execute_result",
          "data": {
            "text/plain": [
              "('2',\n",
              " ' great cd my lovely pat has one of the great voices of her generation i have listened to this cd for years and i still love it when im in a good mood it makes me feel better a bad mood just evaporates like sugar in the rain this cd just oozes life vocals are jusat stuunning and lyrics just kill one of lifes hidden gems this is a desert isle cd in my book why she never made it big is just beyond me everytime i play this no matter black white young old male female everybody says one thing who was that singing ')"
            ]
          },
          "metadata": {},
          "execution_count": 10
        }
      ],
      "source": [
        "test_label[0],clean_text(test[0])"
      ]
    },
    {
      "cell_type": "code",
      "execution_count": 11,
      "id": "a0eefea6",
      "metadata": {
        "execution": {
          "iopub.execute_input": "2023-10-17T16:58:26.010648Z",
          "iopub.status.busy": "2023-10-17T16:58:26.009615Z",
          "iopub.status.idle": "2023-10-17T16:58:26.482296Z",
          "shell.execute_reply": "2023-10-17T16:58:26.481262Z"
        },
        "id": "a0eefea6",
        "outputId": "e278ac57-8a21-41c7-9277-f7d34444748d",
        "papermill": {
          "duration": 0.486847,
          "end_time": "2023-10-17T16:58:26.485087",
          "exception": false,
          "start_time": "2023-10-17T16:58:25.998240",
          "status": "completed"
        },
        "tags": [],
        "colab": {
          "base_uri": "https://localhost:8080/",
          "height": 0
        }
      },
      "outputs": [
        {
          "output_type": "execute_result",
          "data": {
            "text/plain": [
              "1    1800000\n",
              "2    1800000\n",
              "dtype: int64"
            ]
          },
          "metadata": {},
          "execution_count": 11
        }
      ],
      "source": [
        "#train label\n",
        "pd.DataFrame(train_label).value_counts()"
      ]
    },
    {
      "cell_type": "code",
      "execution_count": 12,
      "id": "1204844a",
      "metadata": {
        "execution": {
          "iopub.execute_input": "2023-10-17T16:58:26.519330Z",
          "iopub.status.busy": "2023-10-17T16:58:26.518910Z",
          "iopub.status.idle": "2023-10-17T16:58:29.469788Z",
          "shell.execute_reply": "2023-10-17T16:58:29.468806Z"
        },
        "id": "1204844a",
        "outputId": "7c9dbcb8-7b5e-4c1c-b799-ec90dd04524f",
        "papermill": {
          "duration": 2.969477,
          "end_time": "2023-10-17T16:58:29.471871",
          "exception": false,
          "start_time": "2023-10-17T16:58:26.502394",
          "status": "completed"
        },
        "tags": [],
        "colab": {
          "base_uri": "https://localhost:8080/",
          "height": 496
        }
      },
      "outputs": [
        {
          "output_type": "display_data",
          "data": {
            "text/plain": [
              "<Figure size 640x480 with 1 Axes>"
            ],
            "image/png": "[encoded data removed]"
          },
          "metadata": {}
        }
      ],
      "source": [
        "sns.countplot(x=pd.DataFrame(train_label)[0],palette='Blues')\n",
        "plt.title('Distribution Of Target',fontsize=20)\n",
        "plt.xlabel('Target',fontsize=20)\n",
        "plt.ylabel('Count',fontsize=20)\n",
        "plt.grid(True)\n",
        "plt.xticks(rotation=45)\n",
        "plt.yticks(rotation=45)\n",
        "plt.show()"
      ]
    },
    {
      "cell_type": "code",
      "execution_count": 13,
      "id": "2446253c",
      "metadata": {
        "execution": {
          "iopub.execute_input": "2023-10-17T16:58:29.494739Z",
          "iopub.status.busy": "2023-10-17T16:58:29.493855Z",
          "iopub.status.idle": "2023-10-17T16:58:29.530282Z",
          "shell.execute_reply": "2023-10-17T16:58:29.529342Z"
        },
        "id": "2446253c",
        "outputId": "12a99502-e7f7-4af8-a400-9a28017ad3e2",
        "papermill": {
          "duration": 0.049907,
          "end_time": "2023-10-17T16:58:29.532140",
          "exception": false,
          "start_time": "2023-10-17T16:58:29.482233",
          "status": "completed"
        },
        "tags": [],
        "colab": {
          "base_uri": "https://localhost:8080/",
          "height": 0
        }
      },
      "outputs": [
        {
          "output_type": "execute_result",
          "data": {
            "text/plain": [
              "1    200000\n",
              "2    200000\n",
              "dtype: int64"
            ]
          },
          "metadata": {},
          "execution_count": 13
        }
      ],
      "source": [
        "#test label\n",
        "pd.DataFrame(test_label).value_counts()"
      ]
    },
    {
      "cell_type": "code",
      "execution_count": 14,
      "id": "16486305",
      "metadata": {
        "execution": {
          "iopub.execute_input": "2023-10-17T16:58:29.552927Z",
          "iopub.status.busy": "2023-10-17T16:58:29.552096Z",
          "iopub.status.idle": "2023-10-17T16:58:29.989342Z",
          "shell.execute_reply": "2023-10-17T16:58:29.988459Z"
        },
        "id": "16486305",
        "outputId": "b8f5f168-22e0-4621-da29-12c1bfb2867e",
        "papermill": {
          "duration": 0.449346,
          "end_time": "2023-10-17T16:58:29.991307",
          "exception": false,
          "start_time": "2023-10-17T16:58:29.541961",
          "status": "completed"
        },
        "tags": [],
        "colab": {
          "base_uri": "https://localhost:8080/",
          "height": 496
        }
      },
      "outputs": [
        {
          "output_type": "display_data",
          "data": {
            "text/plain": [
              "<Figure size 640x480 with 1 Axes>"
            ],
            "image/png": "[encoded data removed]"
          },
          "metadata": {}
        }
      ],
      "source": [
        "sns.countplot(x=pd.DataFrame(test_label)[0],palette='Blues')\n",
        "plt.title('Distribution Of Target',fontsize=20)\n",
        "plt.xlabel('Target',fontsize=20)\n",
        "plt.ylabel('Count',fontsize=20)\n",
        "plt.grid(True)\n",
        "plt.xticks(rotation=45)\n",
        "plt.yticks(rotation=45)\n",
        "plt.show()"
      ]
    },
    {
      "cell_type": "code",
      "execution_count": 15,
      "id": "bfe23804",
      "metadata": {
        "execution": {
          "iopub.execute_input": "2023-10-17T16:58:30.015018Z",
          "iopub.status.busy": "2023-10-17T16:58:30.014729Z",
          "iopub.status.idle": "2023-10-17T17:00:56.058288Z",
          "shell.execute_reply": "2023-10-17T17:00:56.057362Z"
        },
        "id": "bfe23804",
        "outputId": "d5871318-f5aa-4e9f-ccbd-edad4ead4b3f",
        "papermill": {
          "duration": 146.069098,
          "end_time": "2023-10-17T17:00:56.071080",
          "exception": false,
          "start_time": "2023-10-17T16:58:30.001982",
          "status": "completed"
        },
        "tags": [],
        "colab": {
          "base_uri": "https://localhost:8080/",
          "height": 0
        }
      },
      "outputs": [
        {
          "output_type": "execute_result",
          "data": {
            "text/plain": [
              "0     stuning even for the nongamer this sound trac...\n",
              "1     the best soundtrack ever to anything im readi...\n",
              "2     amazing this soundtrack is my favorite music ...\n",
              "3     excellent soundtrack i truly like this soundt...\n",
              "4     remember pull your jaw off the floor after he...\n",
              "Name: 0, dtype: object"
            ]
          },
          "metadata": {},
          "execution_count": 15
        }
      ],
      "source": [
        "train=pd.DataFrame(train)[0].apply(clean_text)\n",
        "test=pd.DataFrame(test)[0].apply(clean_text)\n",
        "train.head()"
      ]
    },
    {
      "cell_type": "code",
      "execution_count": 16,
      "id": "2820e839",
      "metadata": {
        "execution": {
          "iopub.execute_input": "2023-10-17T17:00:56.092641Z",
          "iopub.status.busy": "2023-10-17T17:00:56.092299Z",
          "iopub.status.idle": "2023-10-17T17:00:56.099327Z",
          "shell.execute_reply": "2023-10-17T17:00:56.098441Z"
        },
        "id": "2820e839",
        "outputId": "a7c9039a-4a2c-4958-bf09-376715c36a31",
        "papermill": {
          "duration": 0.019913,
          "end_time": "2023-10-17T17:00:56.101044",
          "exception": false,
          "start_time": "2023-10-17T17:00:56.081131",
          "status": "completed"
        },
        "tags": [],
        "colab": {
          "base_uri": "https://localhost:8080/",
          "height": 0
        }
      },
      "outputs": [
        {
          "output_type": "execute_result",
          "data": {
            "text/plain": [
              "0     great cd my lovely pat has one of the great v...\n",
              "1     one of the best game music soundtracks for a ...\n",
              "2     batteries died within a year i bought this ch...\n",
              "3     works fine but maha energy is better check ou...\n",
              "4     great for the nonaudiophile reviewed quite a ...\n",
              "Name: 0, dtype: object"
            ]
          },
          "metadata": {},
          "execution_count": 16
        }
      ],
      "source": [
        "test.head()"
      ]
    },
    {
      "cell_type": "markdown",
      "id": "edc35461",
      "metadata": {
        "papermill": {
          "duration": 0.009682,
          "end_time": "2023-10-17T17:00:56.120452",
          "exception": false,
          "start_time": "2023-10-17T17:00:56.110770",
          "status": "completed"
        },
        "tags": [],
        "id": "edc35461"
      },
      "source": [
        "<a id=\"0.1\"></a>\n",
        "## <div style= \"font-family: Cambria; font-weight:bold; letter-spacing: 0px; color:#ffffff; font-size:120%; text-align:left;padding:3.0px; background: #0059b3; border-bottom: 8px solid #e6e6e6\" >Word Cloud<br><div>\n"
      ]
    },
    {
      "cell_type": "code",
      "execution_count": 17,
      "id": "0ac96990",
      "metadata": {
        "execution": {
          "iopub.execute_input": "2023-10-17T17:00:56.141247Z",
          "iopub.status.busy": "2023-10-17T17:00:56.140992Z",
          "iopub.status.idle": "2023-10-17T17:01:01.072191Z",
          "shell.execute_reply": "2023-10-17T17:01:01.071019Z"
        },
        "id": "0ac96990",
        "outputId": "b7f292fc-9bd3-4275-e31f-93ae06a741c9",
        "papermill": {
          "duration": 4.945298,
          "end_time": "2023-10-17T17:01:01.075341",
          "exception": false,
          "start_time": "2023-10-17T17:00:56.130043",
          "status": "completed"
        },
        "tags": [],
        "colab": {
          "base_uri": "https://localhost:8080/",
          "height": 857
        }
      },
      "outputs": [
        {
          "output_type": "display_data",
          "data": {
            "text/plain": [
              "<Figure size 3000x2000 with 1 Axes>"
            ],
            "image/png": "[encoded data removed]"
          },
          "metadata": {}
        }
      ],
      "source": [
        "plt.figure(figsize=(30,20))\n",
        "plt.imshow(WordCloud().generate(\" \".join(train.iloc[:20000])))\n",
        "plt.axis(\"off\")\n",
        "plt.title(\"WordCloud For Text\",fontsize=20)\n",
        "plt.show()"
      ]
    },
    {
      "cell_type": "markdown",
      "id": "ac135b13",
      "metadata": {
        "papermill": {
          "duration": 0.012955,
          "end_time": "2023-10-17T17:01:01.101987",
          "exception": false,
          "start_time": "2023-10-17T17:01:01.089032",
          "status": "completed"
        },
        "tags": [],
        "id": "ac135b13"
      },
      "source": [
        "<a id=\"0.1\"></a>\n",
        "## <div style= \"font-family: Cambria; font-weight:bold; letter-spacing: 0px; color:#ffffff; font-size:120%; text-align:left;padding:3.0px; background: #0059b3; border-bottom: 8px solid #e6e6e6\" >Tokeniztion & pad_sequences<br><div>\n"
      ]
    },
    {
      "cell_type": "code",
      "execution_count": 18,
      "id": "ca24b363",
      "metadata": {
        "execution": {
          "iopub.execute_input": "2023-10-17T17:01:01.127019Z",
          "iopub.status.busy": "2023-10-17T17:01:01.126715Z",
          "iopub.status.idle": "2023-10-17T17:04:24.124092Z",
          "shell.execute_reply": "2023-10-17T17:04:24.122964Z"
        },
        "id": "ca24b363",
        "papermill": {
          "duration": 203.013059,
          "end_time": "2023-10-17T17:04:24.126743",
          "exception": false,
          "start_time": "2023-10-17T17:01:01.113684",
          "status": "completed"
        },
        "tags": []
      },
      "outputs": [],
      "source": [
        "voc_size = 20000\n",
        "max_length = 100\n",
        "tokenizer = Tokenizer(num_words=voc_size)\n",
        "tokenizer.fit_on_texts(train)\n",
        "word_index = tokenizer.word_index\n",
        "with open('tokenizer.pkl', 'wb') as f:\n",
        "    pickle.dump(tokenizer, f)"
      ]
    },
    {
      "cell_type": "code",
      "execution_count": 19,
      "id": "4dd09b4b",
      "metadata": {
        "execution": {
          "iopub.execute_input": "2023-10-17T17:04:24.154110Z",
          "iopub.status.busy": "2023-10-17T17:04:24.153790Z",
          "iopub.status.idle": "2023-10-17T17:07:24.289391Z",
          "shell.execute_reply": "2023-10-17T17:07:24.288415Z"
        },
        "id": "4dd09b4b",
        "papermill": {
          "duration": 180.151977,
          "end_time": "2023-10-17T17:07:24.291786",
          "exception": false,
          "start_time": "2023-10-17T17:04:24.139809",
          "status": "completed"
        },
        "tags": []
      },
      "outputs": [],
      "source": [
        "train = tokenizer.texts_to_sequences(train)\n",
        "train = pad_sequences(train, maxlen=max_length)\n",
        "test = tokenizer.texts_to_sequences(test)\n",
        "test = pad_sequences(test, maxlen=max_length)"
      ]
    },
    {
      "cell_type": "code",
      "execution_count": 20,
      "id": "76e53436",
      "metadata": {
        "execution": {
          "iopub.execute_input": "2023-10-17T17:07:24.319271Z",
          "iopub.status.busy": "2023-10-17T17:07:24.318985Z",
          "iopub.status.idle": "2023-10-17T17:07:24.855794Z",
          "shell.execute_reply": "2023-10-17T17:07:24.854745Z"
        },
        "id": "76e53436",
        "papermill": {
          "duration": 0.5532,
          "end_time": "2023-10-17T17:07:24.858128",
          "exception": false,
          "start_time": "2023-10-17T17:07:24.304928",
          "status": "completed"
        },
        "tags": []
      },
      "outputs": [],
      "source": [
        "train_lab=np.array([1 if i=='2' else 0 for i in train_label])\n",
        "test_lab=np.array([1 if i=='2' else 0 for i in test_label])"
      ]
    },
    {
      "cell_type": "markdown",
      "id": "fb06c693",
      "metadata": {
        "papermill": {
          "duration": 0.011903,
          "end_time": "2023-10-17T17:07:24.882826",
          "exception": false,
          "start_time": "2023-10-17T17:07:24.870923",
          "status": "completed"
        },
        "tags": [],
        "id": "fb06c693"
      },
      "source": [
        "<a id=\"0.1\"></a>\n",
        "## <div style= \"font-family: Cambria; font-weight:bold; letter-spacing: 0px; color:#ffffff; font-size:120%; text-align:left;padding:3.0px; background: #0059b3; border-bottom: 8px solid #e6e6e6\" >Model<br><div>"
      ]
    },
    {
      "cell_type": "code",
      "execution_count": 21,
      "id": "2d329a7d",
      "metadata": {
        "execution": {
          "iopub.execute_input": "2023-10-17T17:07:24.908217Z",
          "iopub.status.busy": "2023-10-17T17:07:24.907925Z",
          "iopub.status.idle": "2023-10-17T17:07:31.030113Z",
          "shell.execute_reply": "2023-10-17T17:07:31.029384Z"
        },
        "id": "2d329a7d",
        "outputId": "9a10e74c-52ad-4cb2-9ac0-7d02fdafddc4",
        "papermill": {
          "duration": 6.144987,
          "end_time": "2023-10-17T17:07:31.039838",
          "exception": false,
          "start_time": "2023-10-17T17:07:24.894851",
          "status": "completed"
        },
        "tags": [],
        "colab": {
          "base_uri": "https://localhost:8080/",
          "height": 0
        }
      },
      "outputs": [
        {
          "output_type": "stream",
          "name": "stdout",
          "text": [
            "Model: \"sequential\"\n",
            "_________________________________________________________________\n",
            " Layer (type)                Output Shape              Param #   \n",
            "=================================================================\n",
            " embedding (Embedding)       (None, 100, 64)           1280000   \n",
            "                                                                 \n",
            " lstm (LSTM)                 (None, 100, 32)           12416     \n",
            "                                                                 \n",
            " spatial_dropout1d (Spatial  (None, 100, 32)           0         \n",
            " Dropout1D)                                                      \n",
            "                                                                 \n",
            " lstm_1 (LSTM)               (None, 32)                8320      \n",
            "                                                                 \n",
            " dense (Dense)               (None, 1)                 33        \n",
            "                                                                 \n",
            "=================================================================\n",
            "Total params: 1300769 (4.96 MB)\n",
            "Trainable params: 1300769 (4.96 MB)\n",
            "Non-trainable params: 0 (0.00 Byte)\n",
            "_________________________________________________________________\n"
          ]
        }
      ],
      "source": [
        "model = Sequential()\n",
        "model.add(Embedding(input_dim=voc_size, output_dim=64, input_length=max_length))\n",
        "model.add(LSTM(units=32, return_sequences=True))\n",
        "model.add(SpatialDropout1D(rate=0.2))\n",
        "model.add(LSTM(units=32))\n",
        "model.add(Dense(1,activation='sigmoid'))\n",
        "model.summary()"
      ]
    },
    {
      "cell_type": "code",
      "execution_count": 22,
      "id": "18b22b28",
      "metadata": {
        "execution": {
          "iopub.execute_input": "2023-10-17T17:07:31.067477Z",
          "iopub.status.busy": "2023-10-17T17:07:31.067144Z",
          "iopub.status.idle": "2023-10-17T17:45:57.018360Z",
          "shell.execute_reply": "2023-10-17T17:45:57.017200Z"
        },
        "id": "18b22b28",
        "outputId": "d985a1e9-f14c-4457-aec9-8424b70786ee",
        "papermill": {
          "duration": 2305.968583,
          "end_time": "2023-10-17T17:45:57.021442",
          "exception": false,
          "start_time": "2023-10-17T17:07:31.052859",
          "status": "completed"
        },
        "tags": [],
        "colab": {
          "base_uri": "https://localhost:8080/",
          "height": 0
        }
      },
      "outputs": [
        {
          "output_type": "stream",
          "name": "stdout",
          "text": [
            "Epoch 1/2\n",
            "101250/101250 [==============================] - 1260s 12ms/step - loss: 0.1781 - accuracy: 0.9309 - val_loss: 0.1518 - val_accuracy: 0.9425\n",
            "Epoch 2/2\n",
            "    12/101250 [..............................] - ETA: 17:47 - loss: 0.1685 - accuracy: 0.9401"
          ]
        },
        {
          "output_type": "stream",
          "name": "stderr",
          "text": [
            "/usr/local/lib/python3.10/dist-packages/keras/src/engine/training.py:3079: UserWarning: You are saving your model as an HDF5 file via `model.save()`. This file format is considered legacy. We recommend using instead the native Keras format, e.g. `model.save('my_model.keras')`.\n",
            "  saving_api.save_model(\n"
          ]
        },
        {
          "output_type": "stream",
          "name": "stdout",
          "text": [
            "101250/101250 [==============================] - 1183s 12ms/step - loss: 0.1455 - accuracy: 0.9454 - val_loss: 0.1455 - val_accuracy: 0.9452\n"
          ]
        }
      ],
      "source": [
        "checkpoint_cb =ModelCheckpoint(\"amazon_model.h5\", save_best_only=True)\n",
        "model.compile(loss='binary_crossentropy',optimizer='adam',metrics=['accuracy'])\n",
        "history = model.fit(train, train_lab, epochs=2,\n",
        "                    validation_split=.1,\n",
        "                    callbacks=[checkpoint_cb])"
      ]
    },
    {
      "cell_type": "code",
      "execution_count": 23,
      "id": "c7fb3877",
      "metadata": {
        "execution": {
          "iopub.execute_input": "2023-10-17T17:46:01.361553Z",
          "iopub.status.busy": "2023-10-17T17:46:01.361090Z",
          "iopub.status.idle": "2023-10-17T17:47:23.495568Z",
          "shell.execute_reply": "2023-10-17T17:47:23.494541Z"
        },
        "id": "c7fb3877",
        "outputId": "23eac16f-9821-490e-da04-eec9212ac528",
        "papermill": {
          "duration": 85.850149,
          "end_time": "2023-10-17T17:47:25.424353",
          "exception": false,
          "start_time": "2023-10-17T17:45:59.574204",
          "status": "completed"
        },
        "tags": [],
        "colab": {
          "base_uri": "https://localhost:8080/",
          "height": 0
        }
      },
      "outputs": [
        {
          "output_type": "stream",
          "name": "stdout",
          "text": [
            "12500/12500 [==============================] - 67s 5ms/step - loss: 0.1485 - accuracy: 0.9439\n",
            "Loss: 0.1484723836183548\n",
            "Accuracy: 0.9438974857330322\n"
          ]
        }
      ],
      "source": [
        "loss,accuracy = model.evaluate(test, test_lab)\n",
        "print(\"Loss:\", loss)\n",
        "print(\"Accuracy:\", accuracy)"
      ]
    },
    {
      "cell_type": "code",
      "execution_count": 24,
      "id": "c5b0e058",
      "metadata": {
        "execution": {
          "iopub.execute_input": "2023-10-17T17:47:29.182956Z",
          "iopub.status.busy": "2023-10-17T17:47:29.182631Z",
          "iopub.status.idle": "2023-10-17T17:47:29.204236Z",
          "shell.execute_reply": "2023-10-17T17:47:29.203107Z"
        },
        "papermill": {
          "duration": 1.951593,
          "end_time": "2023-10-17T17:47:29.206136",
          "exception": false,
          "start_time": "2023-10-17T17:47:27.254543",
          "status": "completed"
        },
        "tags": [],
        "colab": {
          "base_uri": "https://localhost:8080/",
          "height": 112
        },
        "id": "c5b0e058",
        "outputId": "495ab0a2-7cf2-4c10-d7db-dfb556f4571c"
      },
      "outputs": [
        {
          "output_type": "execute_result",
          "data": {
            "text/plain": [
              "       loss  accuracy  val_loss  val_accuracy\n",
              "0  0.178121  0.930931  0.151841      0.942453\n",
              "1  0.145466  0.945415  0.145505      0.945150"
            ],
            "text/html": [
              "\n",
              "  <div id=\"df-302da689-61b2-4996-bf2e-e8208d661442\" class=\"colab-df-container\">\n",
              "    <div>\n",
              "<style scoped>\n",
              "    .dataframe tbody tr th:only-of-type {\n",
              "        vertical-align: middle;\n",
              "    }\n",
              "\n",
              "    .dataframe tbody tr th {\n",
              "        vertical-align: top;\n",
              "    }\n",
              "\n",
              "    .dataframe thead th {\n",
              "        text-align: right;\n",
              "    }\n",
              "</style>\n",
              "<table border=\"1\" class=\"dataframe\">\n",
              "  <thead>\n",
              "    <tr style=\"text-align: right;\">\n",
              "      <th></th>\n",
              "      <th>loss</th>\n",
              "      <th>accuracy</th>\n",
              "      <th>val_loss</th>\n",
              "      <th>val_accuracy</th>\n",
              "    </tr>\n",
              "  </thead>\n",
              "  <tbody>\n",
              "    <tr>\n",
              "      <th>0</th>\n",
              "      <td>0.178121</td>\n",
              "      <td>0.930931</td>\n",
              "      <td>0.151841</td>\n",
              "      <td>0.942453</td>\n",
              "    </tr>\n",
              "    <tr>\n",
              "      <th>1</th>\n",
              "      <td>0.145466</td>\n",
              "      <td>0.945415</td>\n",
              "      <td>0.145505</td>\n",
              "      <td>0.945150</td>\n",
              "    </tr>\n",
              "  </tbody>\n",
              "</table>\n",
              "</div>\n",
              "    <div class=\"colab-df-buttons\">\n",
              "\n",
              "  <div class=\"colab-df-container\">\n",
              "    <button class=\"colab-df-convert\" onclick=\"convertToInteractive('df-302da689-61b2-4996-bf2e-e8208d661442')\"\n",
              "            title=\"Convert this dataframe to an interactive table.\"\n",
              "            style=\"display:none;\">\n",
              "\n",
              "  <svg xmlns=\"http://www.w3.org/2000/svg\" height=\"24px\" viewBox=\"0 -960 960 960\">\n",
              "    <path d=\"M120-120v-720h720v720H120Zm60-500h600v-160H180v160Zm220 220h160v-160H400v160Zm0 220h160v-160H400v160ZM180-400h160v-160H180v160Zm440 0h160v-160H620v160ZM180-180h160v-160H180v160Zm440 0h160v-160H620v160Z\"/>\n",
              "  </svg>\n",
              "    </button>\n",
              "\n",
              "  <style>\n",
              "    .colab-df-container {\n",
              "      display:flex;\n",
              "      gap: 12px;\n",
              "    }\n",
              "\n",
              "    .colab-df-convert {\n",
              "      background-color: #E8F0FE;\n",
              "      border: none;\n",
              "      border-radius: 50%;\n",
              "      cursor: pointer;\n",
              "      display: none;\n",
              "      fill: #1967D2;\n",
              "      height: 32px;\n",
              "      padding: 0 0 0 0;\n",
              "      width: 32px;\n",
              "    }\n",
              "\n",
              "    .colab-df-convert:hover {\n",
              "      background-color: #E2EBFA;\n",
              "      box-shadow: 0px 1px 2px rgba(60, 64, 67, 0.3), 0px 1px 3px 1px rgba(60, 64, 67, 0.15);\n",
              "      fill: #174EA6;\n",
              "    }\n",
              "\n",
              "    .colab-df-buttons div {\n",
              "      margin-bottom: 4px;\n",
              "    }\n",
              "\n",
              "    [theme=dark] .colab-df-convert {\n",
              "      background-color: #3B4455;\n",
              "      fill: #D2E3FC;\n",
              "    }\n",
              "\n",
              "    [theme=dark] .colab-df-convert:hover {\n",
              "      background-color: #434B5C;\n",
              "      box-shadow: 0px 1px 3px 1px rgba(0, 0, 0, 0.15);\n",
              "      filter: drop-shadow(0px 1px 2px rgba(0, 0, 0, 0.3));\n",
              "      fill: #FFFFFF;\n",
              "    }\n",
              "  </style>\n",
              "\n",
              "    <script>\n",
              "      const buttonEl =\n",
              "        document.querySelector('#df-302da689-61b2-4996-bf2e-e8208d661442 button.colab-df-convert');\n",
              "      buttonEl.style.display =\n",
              "        google.colab.kernel.accessAllowed ? 'block' : 'none';\n",
              "\n",
              "      async function convertToInteractive(key) {\n",
              "        const element = document.querySelector('#df-302da689-61b2-4996-bf2e-e8208d661442');\n",
              "        const dataTable =\n",
              "          await google.colab.kernel.invokeFunction('convertToInteractive',\n",
              "                                                    [key], {});\n",
              "        if (!dataTable) return;\n",
              "\n",
              "        const docLinkHtml = 'Like what you see? Visit the ' +\n",
              "          '<a target=\"_blank\" href=https://colab.research.google.com/notebooks/data_table.ipynb>data table notebook</a>'\n",
              "          + ' to learn more about interactive tables.';\n",
              "        element.innerHTML = '';\n",
              "        dataTable['output_type'] = 'display_data';\n",
              "        await google.colab.output.renderOutput(dataTable, element);\n",
              "        const docLink = document.createElement('div');\n",
              "        docLink.innerHTML = docLinkHtml;\n",
              "        element.appendChild(docLink);\n",
              "      }\n",
              "    </script>\n",
              "  </div>\n",
              "\n",
              "\n",
              "<div id=\"df-dad3c5a9-32ba-4020-ba68-4609f04fd6ac\">\n",
              "  <button class=\"colab-df-quickchart\" onclick=\"quickchart('df-dad3c5a9-32ba-4020-ba68-4609f04fd6ac')\"\n",
              "            title=\"Suggest charts\"\n",
              "            style=\"display:none;\">\n",
              "\n",
              "<svg xmlns=\"http://www.w3.org/2000/svg\" height=\"24px\"viewBox=\"0 0 24 24\"\n",
              "     width=\"24px\">\n",
              "    <g>\n",
              "        <path d=\"M19 3H5c-1.1 0-2 .9-2 2v14c0 1.1.9 2 2 2h14c1.1 0 2-.9 2-2V5c0-1.1-.9-2-2-2zM9 17H7v-7h2v7zm4 0h-2V7h2v10zm4 0h-2v-4h2v4z\"/>\n",
              "    </g>\n",
              "</svg>\n",
              "  </button>\n",
              "\n",
              "<style>\n",
              "  .colab-df-quickchart {\n",
              "      --bg-color: #E8F0FE;\n",
              "      --fill-color: #1967D2;\n",
              "      --hover-bg-color: #E2EBFA;\n",
              "      --hover-fill-color: #174EA6;\n",
              "      --disabled-fill-color: #AAA;\n",
              "      --disabled-bg-color: #DDD;\n",
              "  }\n",
              "\n",
              "  [theme=dark] .colab-df-quickchart {\n",
              "      --bg-color: #3B4455;\n",
              "      --fill-color: #D2E3FC;\n",
              "      --hover-bg-color: #434B5C;\n",
              "      --hover-fill-color: #FFFFFF;\n",
              "      --disabled-bg-color: #3B4455;\n",
              "      --disabled-fill-color: #666;\n",
              "  }\n",
              "\n",
              "  .colab-df-quickchart {\n",
              "    background-color: var(--bg-color);\n",
              "    border: none;\n",
              "    border-radius: 50%;\n",
              "    cursor: pointer;\n",
              "    display: none;\n",
              "    fill: var(--fill-color);\n",
              "    height: 32px;\n",
              "    padding: 0;\n",
              "    width: 32px;\n",
              "  }\n",
              "\n",
              "  .colab-df-quickchart:hover {\n",
              "    background-color: var(--hover-bg-color);\n",
              "    box-shadow: 0 1px 2px rgba(60, 64, 67, 0.3), 0 1px 3px 1px rgba(60, 64, 67, 0.15);\n",
              "    fill: var(--button-hover-fill-color);\n",
              "  }\n",
              "\n",
              "  .colab-df-quickchart-complete:disabled,\n",
              "  .colab-df-quickchart-complete:disabled:hover {\n",
              "    background-color: var(--disabled-bg-color);\n",
              "    fill: var(--disabled-fill-color);\n",
              "    box-shadow: none;\n",
              "  }\n",
              "\n",
              "  .colab-df-spinner {\n",
              "    border: 2px solid var(--fill-color);\n",
              "    border-color: transparent;\n",
              "    border-bottom-color: var(--fill-color);\n",
              "    animation:\n",
              "      spin 1s steps(1) infinite;\n",
              "  }\n",
              "\n",
              "  @keyframes spin {\n",
              "    0% {\n",
              "      border-color: transparent;\n",
              "      border-bottom-color: var(--fill-color);\n",
              "      border-left-color: var(--fill-color);\n",
              "    }\n",
              "    20% {\n",
              "      border-color: transparent;\n",
              "      border-left-color: var(--fill-color);\n",
              "      border-top-color: var(--fill-color);\n",
              "    }\n",
              "    30% {\n",
              "      border-color: transparent;\n",
              "      border-left-color: var(--fill-color);\n",
              "      border-top-color: var(--fill-color);\n",
              "      border-right-color: var(--fill-color);\n",
              "    }\n",
              "    40% {\n",
              "      border-color: transparent;\n",
              "      border-right-color: var(--fill-color);\n",
              "      border-top-color: var(--fill-color);\n",
              "    }\n",
              "    60% {\n",
              "      border-color: transparent;\n",
              "      border-right-color: var(--fill-color);\n",
              "    }\n",
              "    80% {\n",
              "      border-color: transparent;\n",
              "      border-right-color: var(--fill-color);\n",
              "      border-bottom-color: var(--fill-color);\n",
              "    }\n",
              "    90% {\n",
              "      border-color: transparent;\n",
              "      border-bottom-color: var(--fill-color);\n",
              "    }\n",
              "  }\n",
              "</style>\n",
              "\n",
              "  <script>\n",
              "    async function quickchart(key) {\n",
              "      const quickchartButtonEl =\n",
              "        document.querySelector('#' + key + ' button');\n",
              "      quickchartButtonEl.disabled = true;  // To prevent multiple clicks.\n",
              "      quickchartButtonEl.classList.add('colab-df-spinner');\n",
              "      try {\n",
              "        const charts = await google.colab.kernel.invokeFunction(\n",
              "            'suggestCharts', [key], {});\n",
              "      } catch (error) {\n",
              "        console.error('Error during call to suggestCharts:', error);\n",
              "      }\n",
              "      quickchartButtonEl.classList.remove('colab-df-spinner');\n",
              "      quickchartButtonEl.classList.add('colab-df-quickchart-complete');\n",
              "    }\n",
              "    (() => {\n",
              "      let quickchartButtonEl =\n",
              "        document.querySelector('#df-dad3c5a9-32ba-4020-ba68-4609f04fd6ac button');\n",
              "      quickchartButtonEl.style.display =\n",
              "        google.colab.kernel.accessAllowed ? 'block' : 'none';\n",
              "    })();\n",
              "  </script>\n",
              "</div>\n",
              "    </div>\n",
              "  </div>\n"
            ]
          },
          "metadata": {},
          "execution_count": 24
        }
      ],
      "source": [
        "pd.DataFrame(history.history)"
      ]
    },
    {
      "cell_type": "code",
      "execution_count": 25,
      "id": "8aef53a5",
      "metadata": {
        "execution": {
          "iopub.execute_input": "2023-10-17T17:47:33.847752Z",
          "iopub.status.busy": "2023-10-17T17:47:33.846119Z",
          "iopub.status.idle": "2023-10-17T17:48:38.134403Z",
          "shell.execute_reply": "2023-10-17T17:48:38.133406Z"
        },
        "papermill": {
          "duration": 67.033885,
          "end_time": "2023-10-17T17:48:38.136705",
          "exception": false,
          "start_time": "2023-10-17T17:47:31.102820",
          "status": "completed"
        },
        "tags": [],
        "colab": {
          "base_uri": "https://localhost:8080/",
          "height": 0
        },
        "id": "8aef53a5",
        "outputId": "094b1969-2f56-4c47-976a-ba4ff074e14a"
      },
      "outputs": [
        {
          "output_type": "stream",
          "name": "stdout",
          "text": [
            "12500/12500 [==============================] - 59s 5ms/step\n"
          ]
        }
      ],
      "source": [
        "prediction=model.predict(test)\n",
        "y_pred=np.where(prediction>=.5,1,0)\n",
        "df=pd.DataFrame()\n",
        "df['actual'],df['pred']=test_lab,y_pred"
      ]
    },
    {
      "cell_type": "code",
      "execution_count": 26,
      "id": "8c51e96c",
      "metadata": {
        "execution": {
          "iopub.execute_input": "2023-10-17T17:48:41.990538Z",
          "iopub.status.busy": "2023-10-17T17:48:41.990178Z",
          "iopub.status.idle": "2023-10-17T17:48:42.007536Z",
          "shell.execute_reply": "2023-10-17T17:48:42.006450Z"
        },
        "papermill": {
          "duration": 1.90263,
          "end_time": "2023-10-17T17:48:42.009200",
          "exception": false,
          "start_time": "2023-10-17T17:48:40.106570",
          "status": "completed"
        },
        "tags": [],
        "colab": {
          "base_uri": "https://localhost:8080/",
          "height": 424
        },
        "id": "8c51e96c",
        "outputId": "111002ad-065f-4d7a-b938-20f931035fdc"
      },
      "outputs": [
        {
          "output_type": "execute_result",
          "data": {
            "text/plain": [
              "        actual  pred\n",
              "0            1     1\n",
              "1            1     1\n",
              "2            0     0\n",
              "3            1     1\n",
              "4            1     1\n",
              "...        ...   ...\n",
              "399995       0     0\n",
              "399996       0     0\n",
              "399997       0     0\n",
              "399998       1     1\n",
              "399999       0     0\n",
              "\n",
              "[400000 rows x 2 columns]"
            ],
            "text/html": [
              "\n",
              "  <div id=\"df-1eda4788-1324-4cf7-bc23-79eed267e32d\" class=\"colab-df-container\">\n",
              "    <div>\n",
              "<style scoped>\n",
              "    .dataframe tbody tr th:only-of-type {\n",
              "        vertical-align: middle;\n",
              "    }\n",
              "\n",
              "    .dataframe tbody tr th {\n",
              "        vertical-align: top;\n",
              "    }\n",
              "\n",
              "    .dataframe thead th {\n",
              "        text-align: right;\n",
              "    }\n",
              "</style>\n",
              "<table border=\"1\" class=\"dataframe\">\n",
              "  <thead>\n",
              "    <tr style=\"text-align: right;\">\n",
              "      <th></th>\n",
              "      <th>actual</th>\n",
              "      <th>pred</th>\n",
              "    </tr>\n",
              "  </thead>\n",
              "  <tbody>\n",
              "    <tr>\n",
              "      <th>0</th>\n",
              "      <td>1</td>\n",
              "      <td>1</td>\n",
              "    </tr>\n",
              "    <tr>\n",
              "      <th>1</th>\n",
              "      <td>1</td>\n",
              "      <td>1</td>\n",
              "    </tr>\n",
              "    <tr>\n",
              "      <th>2</th>\n",
              "      <td>0</td>\n",
              "      <td>0</td>\n",
              "    </tr>\n",
              "    <tr>\n",
              "      <th>3</th>\n",
              "      <td>1</td>\n",
              "      <td>1</td>\n",
              "    </tr>\n",
              "    <tr>\n",
              "      <th>4</th>\n",
              "      <td>1</td>\n",
              "      <td>1</td>\n",
              "    </tr>\n",
              "    <tr>\n",
              "      <th>...</th>\n",
              "      <td>...</td>\n",
              "      <td>...</td>\n",
              "    </tr>\n",
              "    <tr>\n",
              "      <th>399995</th>\n",
              "      <td>0</td>\n",
              "      <td>0</td>\n",
              "    </tr>\n",
              "    <tr>\n",
              "      <th>399996</th>\n",
              "      <td>0</td>\n",
              "      <td>0</td>\n",
              "    </tr>\n",
              "    <tr>\n",
              "      <th>399997</th>\n",
              "      <td>0</td>\n",
              "      <td>0</td>\n",
              "    </tr>\n",
              "    <tr>\n",
              "      <th>399998</th>\n",
              "      <td>1</td>\n",
              "      <td>1</td>\n",
              "    </tr>\n",
              "    <tr>\n",
              "      <th>399999</th>\n",
              "      <td>0</td>\n",
              "      <td>0</td>\n",
              "    </tr>\n",
              "  </tbody>\n",
              "</table>\n",
              "<p>400000 rows × 2 columns</p>\n",
              "</div>\n",
              "    <div class=\"colab-df-buttons\">\n",
              "\n",
              "  <div class=\"colab-df-container\">\n",
              "    <button class=\"colab-df-convert\" onclick=\"convertToInteractive('df-1eda4788-1324-4cf7-bc23-79eed267e32d')\"\n",
              "            title=\"Convert this dataframe to an interactive table.\"\n",
              "            style=\"display:none;\">\n",
              "\n",
              "  <svg xmlns=\"http://www.w3.org/2000/svg\" height=\"24px\" viewBox=\"0 -960 960 960\">\n",
              "    <path d=\"M120-120v-720h720v720H120Zm60-500h600v-160H180v160Zm220 220h160v-160H400v160Zm0 220h160v-160H400v160ZM180-400h160v-160H180v160Zm440 0h160v-160H620v160ZM180-180h160v-160H180v160Zm440 0h160v-160H620v160Z\"/>\n",
              "  </svg>\n",
              "    </button>\n",
              "\n",
              "  <style>\n",
              "    .colab-df-container {\n",
              "      display:flex;\n",
              "      gap: 12px;\n",
              "    }\n",
              "\n",
              "    .colab-df-convert {\n",
              "      background-color: #E8F0FE;\n",
              "      border: none;\n",
              "      border-radius: 50%;\n",
              "      cursor: pointer;\n",
              "      display: none;\n",
              "      fill: #1967D2;\n",
              "      height: 32px;\n",
              "      padding: 0 0 0 0;\n",
              "      width: 32px;\n",
              "    }\n",
              "\n",
              "    .colab-df-convert:hover {\n",
              "      background-color: #E2EBFA;\n",
              "      box-shadow: 0px 1px 2px rgba(60, 64, 67, 0.3), 0px 1px 3px 1px rgba(60, 64, 67, 0.15);\n",
              "      fill: #174EA6;\n",
              "    }\n",
              "\n",
              "    .colab-df-buttons div {\n",
              "      margin-bottom: 4px;\n",
              "    }\n",
              "\n",
              "    [theme=dark] .colab-df-convert {\n",
              "      background-color: #3B4455;\n",
              "      fill: #D2E3FC;\n",
              "    }\n",
              "\n",
              "    [theme=dark] .colab-df-convert:hover {\n",
              "      background-color: #434B5C;\n",
              "      box-shadow: 0px 1px 3px 1px rgba(0, 0, 0, 0.15);\n",
              "      filter: drop-shadow(0px 1px 2px rgba(0, 0, 0, 0.3));\n",
              "      fill: #FFFFFF;\n",
              "    }\n",
              "  </style>\n",
              "\n",
              "    <script>\n",
              "      const buttonEl =\n",
              "        document.querySelector('#df-1eda4788-1324-4cf7-bc23-79eed267e32d button.colab-df-convert');\n",
              "      buttonEl.style.display =\n",
              "        google.colab.kernel.accessAllowed ? 'block' : 'none';\n",
              "\n",
              "      async function convertToInteractive(key) {\n",
              "        const element = document.querySelector('#df-1eda4788-1324-4cf7-bc23-79eed267e32d');\n",
              "        const dataTable =\n",
              "          await google.colab.kernel.invokeFunction('convertToInteractive',\n",
              "                                                    [key], {});\n",
              "        if (!dataTable) return;\n",
              "\n",
              "        const docLinkHtml = 'Like what you see? Visit the ' +\n",
              "          '<a target=\"_blank\" href=https://colab.research.google.com/notebooks/data_table.ipynb>data table notebook</a>'\n",
              "          + ' to learn more about interactive tables.';\n",
              "        element.innerHTML = '';\n",
              "        dataTable['output_type'] = 'display_data';\n",
              "        await google.colab.output.renderOutput(dataTable, element);\n",
              "        const docLink = document.createElement('div');\n",
              "        docLink.innerHTML = docLinkHtml;\n",
              "        element.appendChild(docLink);\n",
              "      }\n",
              "    </script>\n",
              "  </div>\n",
              "\n",
              "\n",
              "<div id=\"df-f9151ac2-dfac-4648-8062-98b8d7c7453a\">\n",
              "  <button class=\"colab-df-quickchart\" onclick=\"quickchart('df-f9151ac2-dfac-4648-8062-98b8d7c7453a')\"\n",
              "            title=\"Suggest charts\"\n",
              "            style=\"display:none;\">\n",
              "\n",
              "<svg xmlns=\"http://www.w3.org/2000/svg\" height=\"24px\"viewBox=\"0 0 24 24\"\n",
              "     width=\"24px\">\n",
              "    <g>\n",
              "        <path d=\"M19 3H5c-1.1 0-2 .9-2 2v14c0 1.1.9 2 2 2h14c1.1 0 2-.9 2-2V5c0-1.1-.9-2-2-2zM9 17H7v-7h2v7zm4 0h-2V7h2v10zm4 0h-2v-4h2v4z\"/>\n",
              "    </g>\n",
              "</svg>\n",
              "  </button>\n",
              "\n",
              "<style>\n",
              "  .colab-df-quickchart {\n",
              "      --bg-color: #E8F0FE;\n",
              "      --fill-color: #1967D2;\n",
              "      --hover-bg-color: #E2EBFA;\n",
              "      --hover-fill-color: #174EA6;\n",
              "      --disabled-fill-color: #AAA;\n",
              "      --disabled-bg-color: #DDD;\n",
              "  }\n",
              "\n",
              "  [theme=dark] .colab-df-quickchart {\n",
              "      --bg-color: #3B4455;\n",
              "      --fill-color: #D2E3FC;\n",
              "      --hover-bg-color: #434B5C;\n",
              "      --hover-fill-color: #FFFFFF;\n",
              "      --disabled-bg-color: #3B4455;\n",
              "      --disabled-fill-color: #666;\n",
              "  }\n",
              "\n",
              "  .colab-df-quickchart {\n",
              "    background-color: var(--bg-color);\n",
              "    border: none;\n",
              "    border-radius: 50%;\n",
              "    cursor: pointer;\n",
              "    display: none;\n",
              "    fill: var(--fill-color);\n",
              "    height: 32px;\n",
              "    padding: 0;\n",
              "    width: 32px;\n",
              "  }\n",
              "\n",
              "  .colab-df-quickchart:hover {\n",
              "    background-color: var(--hover-bg-color);\n",
              "    box-shadow: 0 1px 2px rgba(60, 64, 67, 0.3), 0 1px 3px 1px rgba(60, 64, 67, 0.15);\n",
              "    fill: var(--button-hover-fill-color);\n",
              "  }\n",
              "\n",
              "  .colab-df-quickchart-complete:disabled,\n",
              "  .colab-df-quickchart-complete:disabled:hover {\n",
              "    background-color: var(--disabled-bg-color);\n",
              "    fill: var(--disabled-fill-color);\n",
              "    box-shadow: none;\n",
              "  }\n",
              "\n",
              "  .colab-df-spinner {\n",
              "    border: 2px solid var(--fill-color);\n",
              "    border-color: transparent;\n",
              "    border-bottom-color: var(--fill-color);\n",
              "    animation:\n",
              "      spin 1s steps(1) infinite;\n",
              "  }\n",
              "\n",
              "  @keyframes spin {\n",
              "    0% {\n",
              "      border-color: transparent;\n",
              "      border-bottom-color: var(--fill-color);\n",
              "      border-left-color: var(--fill-color);\n",
              "    }\n",
              "    20% {\n",
              "      border-color: transparent;\n",
              "      border-left-color: var(--fill-color);\n",
              "      border-top-color: var(--fill-color);\n",
              "    }\n",
              "    30% {\n",
              "      border-color: transparent;\n",
              "      border-left-color: var(--fill-color);\n",
              "      border-top-color: var(--fill-color);\n",
              "      border-right-color: var(--fill-color);\n",
              "    }\n",
              "    40% {\n",
              "      border-color: transparent;\n",
              "      border-right-color: var(--fill-color);\n",
              "      border-top-color: var(--fill-color);\n",
              "    }\n",
              "    60% {\n",
              "      border-color: transparent;\n",
              "      border-right-color: var(--fill-color);\n",
              "    }\n",
              "    80% {\n",
              "      border-color: transparent;\n",
              "      border-right-color: var(--fill-color);\n",
              "      border-bottom-color: var(--fill-color);\n",
              "    }\n",
              "    90% {\n",
              "      border-color: transparent;\n",
              "      border-bottom-color: var(--fill-color);\n",
              "    }\n",
              "  }\n",
              "</style>\n",
              "\n",
              "  <script>\n",
              "    async function quickchart(key) {\n",
              "      const quickchartButtonEl =\n",
              "        document.querySelector('#' + key + ' button');\n",
              "      quickchartButtonEl.disabled = true;  // To prevent multiple clicks.\n",
              "      quickchartButtonEl.classList.add('colab-df-spinner');\n",
              "      try {\n",
              "        const charts = await google.colab.kernel.invokeFunction(\n",
              "            'suggestCharts', [key], {});\n",
              "      } catch (error) {\n",
              "        console.error('Error during call to suggestCharts:', error);\n",
              "      }\n",
              "      quickchartButtonEl.classList.remove('colab-df-spinner');\n",
              "      quickchartButtonEl.classList.add('colab-df-quickchart-complete');\n",
              "    }\n",
              "    (() => {\n",
              "      let quickchartButtonEl =\n",
              "        document.querySelector('#df-f9151ac2-dfac-4648-8062-98b8d7c7453a button');\n",
              "      quickchartButtonEl.style.display =\n",
              "        google.colab.kernel.accessAllowed ? 'block' : 'none';\n",
              "    })();\n",
              "  </script>\n",
              "</div>\n",
              "    </div>\n",
              "  </div>\n"
            ]
          },
          "metadata": {},
          "execution_count": 26
        }
      ],
      "source": [
        "df"
      ]
    },
    {
      "cell_type": "markdown",
      "id": "8a5c7649",
      "metadata": {
        "papermill": {
          "duration": 1.898848,
          "end_time": "2023-10-17T17:48:45.887205",
          "exception": false,
          "start_time": "2023-10-17T17:48:43.988357",
          "status": "completed"
        },
        "tags": [],
        "id": "8a5c7649"
      },
      "source": [
        "<a id=\"0.1\"></a>\n",
        "## <div style= \"font-family: Cambria; font-weight:bold; letter-spacing: 0px; color:#ffffff; font-size:120%; text-align:left;padding:3.0px; background: #0059b3; border-bottom: 8px solid #e6e6e6\" >Model Check<br><div>"
      ]
    },
    {
      "cell_type": "code",
      "execution_count": 27,
      "id": "82228b76",
      "metadata": {
        "execution": {
          "iopub.execute_input": "2023-10-17T17:48:49.744327Z",
          "iopub.status.busy": "2023-10-17T17:48:49.743799Z",
          "iopub.status.idle": "2023-10-17T17:48:50.083470Z",
          "shell.execute_reply": "2023-10-17T17:48:50.082554Z"
        },
        "papermill": {
          "duration": 2.313688,
          "end_time": "2023-10-17T17:48:50.085285",
          "exception": false,
          "start_time": "2023-10-17T17:48:47.771597",
          "status": "completed"
        },
        "tags": [],
        "colab": {
          "base_uri": "https://localhost:8080/",
          "height": 465
        },
        "id": "82228b76",
        "outputId": "c0087d19-bdc5-47a7-fe2e-9f240661c03e"
      },
      "outputs": [
        {
          "output_type": "execute_result",
          "data": {
            "text/plain": [
              "array([[188008,  11992],\n",
              "       [ 10449, 189551]])"
            ]
          },
          "metadata": {},
          "execution_count": 27
        },
        {
          "output_type": "display_data",
          "data": {
            "text/plain": [
              "<Figure size 640x480 with 2 Axes>"
            ],
            "image/png": "[encoded data removed]"
          },
          "metadata": {}
        }
      ],
      "source": [
        "CM = confusion_matrix(test_lab, y_pred)\n",
        "sns.heatmap(CM,annot=True,center = True,fmt='g',cmap='Blues')\n",
        "CM"
      ]
    },
    {
      "cell_type": "code",
      "execution_count": 28,
      "id": "491663d8",
      "metadata": {
        "execution": {
          "iopub.execute_input": "2023-10-17T17:48:53.866106Z",
          "iopub.status.busy": "2023-10-17T17:48:53.865573Z",
          "iopub.status.idle": "2023-10-17T17:48:54.518631Z",
          "shell.execute_reply": "2023-10-17T17:48:54.517459Z"
        },
        "papermill": {
          "duration": 2.554634,
          "end_time": "2023-10-17T17:48:54.520430",
          "exception": false,
          "start_time": "2023-10-17T17:48:51.965796",
          "status": "completed"
        },
        "tags": [],
        "colab": {
          "base_uri": "https://localhost:8080/",
          "height": 0
        },
        "id": "491663d8",
        "outputId": "19321dfd-7f1f-4ad2-ef0d-8b7b01da73b8"
      },
      "outputs": [
        {
          "output_type": "stream",
          "name": "stdout",
          "text": [
            "Classification Report is :                precision    recall  f1-score   support\n",
            "\n",
            "           0       0.95      0.94      0.94    200000\n",
            "           1       0.94      0.95      0.94    200000\n",
            "\n",
            "    accuracy                           0.94    400000\n",
            "   macro avg       0.94      0.94      0.94    400000\n",
            "weighted avg       0.94      0.94      0.94    400000\n",
            "\n"
          ]
        }
      ],
      "source": [
        "ClassificationReport = classification_report(test_lab,y_pred)\n",
        "print('Classification Report is : ', ClassificationReport)"
      ]
    },
    {
      "cell_type": "code",
      "source": [],
      "metadata": {
        "id": "-Af3o01IJ_ub"
      },
      "id": "-Af3o01IJ_ub",
      "execution_count": null,
      "outputs": []
    },
    {
      "cell_type": "markdown",
      "source": [
        "Prediction using User Input"
      ],
      "metadata": {
        "id": "CujVCoMdKDhC"
      },
      "id": "CujVCoMdKDhC"
    },
    {
      "cell_type": "markdown",
      "source": [
        "User input part is left"
      ],
      "metadata": {
        "id": "t-oXWF7RV9lE"
      },
      "id": "t-oXWF7RV9lE"
    },
    {
      "cell_type": "code",
      "source": [
        "# predictor = ktrain.get_predictor(amazon_model.model)\n",
        "# predictor.get_classes()"
      ],
      "metadata": {
        "id": "r56EWugcKBk9"
      },
      "id": "r56EWugcKBk9",
      "execution_count": null,
      "outputs": []
    },
    {
      "cell_type": "code",
      "source": [
        "# import time\n",
        "\n",
        "# message = 'It was a worst product which I have buied from amazon'\n",
        "\n",
        "# start_time = time.time()\n",
        "# prediction = predictor.predict(message)\n",
        "\n",
        "# print('predicted: {} ({:.2f})'.format(prediction, (time.time() - start_time)))"
      ],
      "metadata": {
        "id": "BA9ZtcbFJ_q_"
      },
      "id": "BA9ZtcbFJ_q_",
      "execution_count": null,
      "outputs": []
    },
    {
      "cell_type": "code",
      "source": [
        "# import ktrain\n",
        "\n",
        "# # Load the saved predictor\n",
        "# predictor = ktrain.load_predictor(\"models\")\n",
        "\n",
        "# # Input loop for making predictions\n",
        "# while True:\n",
        "#     user_input = input(\"Enter a text to predict emotion (or type 'exit' to quit): \")\n",
        "#     if user_input.lower() == 'exit':\n",
        "#         break\n",
        "\n",
        "#     # Make prediction\n",
        "#     prediction = predictor.predict(user_input)\n",
        "\n",
        "#     print(\"Predicted Emotion:\", prediction)"
      ],
      "metadata": {
        "id": "nj36hEGJIwLP"
      },
      "id": "nj36hEGJIwLP",
      "execution_count": null,
      "outputs": []
    }
  ],
  "metadata": {
    "kernelspec": {
      "display_name": "Python 3",
      "name": "python3"
    },
    "language_info": {
      "codemirror_mode": {
        "name": "ipython",
        "version": 3
      },
      "file_extension": ".py",
      "mimetype": "text/x-python",
      "name": "python",
      "nbconvert_exporter": "python",
      "pygments_lexer": "ipython3",
      "version": "3.10.12"
    },
    "papermill": {
      "default_parameters": {},
      "duration": 3188.455719,
      "end_time": "2023-10-17T17:49:04.584539",
      "environment_variables": {},
      "exception": null,
      "input_path": "__notebook__.ipynb",
      "output_path": "__notebook__.ipynb",
      "parameters": {},
      "start_time": "2023-10-17T16:55:56.128820",
      "version": "2.4.0"
    },
    "colab": {
      "provenance": [],
      "gpuType": "T4"
    },
    "accelerator": "GPU"
  },
  "nbformat": 4,
  "nbformat_minor": 5
}